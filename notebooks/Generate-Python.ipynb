{
 "cells": [
  {
   "cell_type": "code",
   "execution_count": 4,
   "metadata": {},
   "outputs": [
    {
     "name": "stdout",
     "output_type": "stream",
     "text": [
      "[jupytext] Reading 04_Model_Feature_Engineering.ipynb\n",
      "[jupytext] Writing 04_Model_Feature_Engineering.py (destination file replaced)\n",
      "[jupytext] Reading 05_Train_Evaluate_Model.ipynb\n",
      "[jupytext] Writing 05_Train_Evaluate_Model.py (destination file replaced)\n",
      "[jupytext] Reading 03_Train_Test_Split.ipynb\n",
      "[jupytext] Writing 03_Train_Test_Split.py (destination file replaced)\n"
     ]
    }
   ],
   "source": [
    "!jupytext --to py \"03_Train_Test_Split.ipynb\"\n",
    "!jupytext --to py \"04_Model_Feature_Engineering.ipynb\"\n",
    "!jupytext --to py \"05_Train_Evaluate_Model.ipynb\""
   ]
  }
 ],
 "metadata": {
  "kernelspec": {
   "display_name": "Python 3",
   "language": "python",
   "name": "python3"
  },
  "language_info": {
   "codemirror_mode": {
    "name": "ipython",
    "version": 3
   },
   "file_extension": ".py",
   "mimetype": "text/x-python",
   "name": "python",
   "nbconvert_exporter": "python",
   "pygments_lexer": "ipython3",
   "version": "3.8.4"
  }
 },
 "nbformat": 4,
 "nbformat_minor": 4
}
