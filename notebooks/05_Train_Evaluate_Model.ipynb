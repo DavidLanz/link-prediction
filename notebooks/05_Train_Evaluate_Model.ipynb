{
 "cells": [
  {
   "cell_type": "markdown",
   "metadata": {},
   "source": [
    "# Choosing a machine learning algorithm\n",
    "\n",
    "We’ll create our machine learning pipeline based on a random forest classifier. This method is well suited as our data set will be comprised of a mix of strong and weak features. While the weak features will sometimes be helpful, the random forest method will ensure we don’t create a model that only fits our training data."
   ]
  },
  {
   "cell_type": "code",
   "execution_count": 3,
   "metadata": {},
   "outputs": [],
   "source": [
    "import pandas as pd\n",
    "import matplotlib\n",
    "import matplotlib.pyplot as plt\n",
    "\n",
    "plt.style.use('fivethirtyeight')\n",
    "pd.set_option('display.float_format', lambda x: '%.3f' % x)\n",
    "\n",
    "# tag::imports[]\n",
    "from sklearn.ensemble import RandomForestClassifier\n",
    "# end::imports[]"
   ]
  },
  {
   "cell_type": "markdown",
   "metadata": {},
   "source": [
    "We can create our classifier with the following code:"
   ]
  },
  {
   "cell_type": "code",
   "execution_count": 4,
   "metadata": {},
   "outputs": [],
   "source": [
    "# Load the CSV files saved in the train/test notebook\n",
    "\n",
    "df_train_under = pd.read_csv(\"data/df_train_under_all.csv\")\n",
    "df_test_under = pd.read_csv(\"data/df_test_under_all.csv\")"
   ]
  },
  {
   "cell_type": "code",
   "execution_count": 5,
   "metadata": {},
   "outputs": [
    {
     "data": {
      "text/html": [
       "<div>\n",
       "<style scoped>\n",
       "    .dataframe tbody tr th:only-of-type {\n",
       "        vertical-align: middle;\n",
       "    }\n",
       "\n",
       "    .dataframe tbody tr th {\n",
       "        vertical-align: top;\n",
       "    }\n",
       "\n",
       "    .dataframe thead th {\n",
       "        text-align: right;\n",
       "    }\n",
       "</style>\n",
       "<table border=\"1\" class=\"dataframe\">\n",
       "  <thead>\n",
       "    <tr style=\"text-align: right;\">\n",
       "      <th></th>\n",
       "      <th>node1</th>\n",
       "      <th>node2</th>\n",
       "      <th>label</th>\n",
       "      <th>cn</th>\n",
       "      <th>pa</th>\n",
       "      <th>tn</th>\n",
       "      <th>minTriangles</th>\n",
       "      <th>maxTriangles</th>\n",
       "      <th>minCoefficient</th>\n",
       "      <th>maxCoefficient</th>\n",
       "      <th>sp</th>\n",
       "      <th>sl</th>\n",
       "    </tr>\n",
       "  </thead>\n",
       "  <tbody>\n",
       "    <tr>\n",
       "      <th>89668</th>\n",
       "      <td>11860</td>\n",
       "      <td>28403</td>\n",
       "      <td>1</td>\n",
       "      <td>1.000</td>\n",
       "      <td>40.000</td>\n",
       "      <td>12.000</td>\n",
       "      <td>4</td>\n",
       "      <td>4</td>\n",
       "      <td>0.143</td>\n",
       "      <td>0.400</td>\n",
       "      <td>0.000</td>\n",
       "      <td>0.000</td>\n",
       "    </tr>\n",
       "    <tr>\n",
       "      <th>132376</th>\n",
       "      <td>145558</td>\n",
       "      <td>145559</td>\n",
       "      <td>1</td>\n",
       "      <td>2.000</td>\n",
       "      <td>9.000</td>\n",
       "      <td>4.000</td>\n",
       "      <td>3</td>\n",
       "      <td>3</td>\n",
       "      <td>1.000</td>\n",
       "      <td>1.000</td>\n",
       "      <td>1.000</td>\n",
       "      <td>1.000</td>\n",
       "    </tr>\n",
       "    <tr>\n",
       "      <th>8244</th>\n",
       "      <td>228243</td>\n",
       "      <td>165937</td>\n",
       "      <td>0</td>\n",
       "      <td>0.000</td>\n",
       "      <td>224.000</td>\n",
       "      <td>36.000</td>\n",
       "      <td>7</td>\n",
       "      <td>375</td>\n",
       "      <td>0.250</td>\n",
       "      <td>0.987</td>\n",
       "      <td>0.000</td>\n",
       "      <td>0.000</td>\n",
       "    </tr>\n",
       "    <tr>\n",
       "      <th>14171</th>\n",
       "      <td>213941</td>\n",
       "      <td>122694</td>\n",
       "      <td>0</td>\n",
       "      <td>0.000</td>\n",
       "      <td>6.000</td>\n",
       "      <td>5.000</td>\n",
       "      <td>1</td>\n",
       "      <td>3</td>\n",
       "      <td>1.000</td>\n",
       "      <td>1.000</td>\n",
       "      <td>1.000</td>\n",
       "      <td>0.000</td>\n",
       "    </tr>\n",
       "    <tr>\n",
       "      <th>34042</th>\n",
       "      <td>11655</td>\n",
       "      <td>20664</td>\n",
       "      <td>0</td>\n",
       "      <td>0.000</td>\n",
       "      <td>36.000</td>\n",
       "      <td>15.000</td>\n",
       "      <td>3</td>\n",
       "      <td>66</td>\n",
       "      <td>1.000</td>\n",
       "      <td>1.000</td>\n",
       "      <td>0.000</td>\n",
       "      <td>0.000</td>\n",
       "    </tr>\n",
       "  </tbody>\n",
       "</table>\n",
       "</div>"
      ],
      "text/plain": [
       "         node1   node2  label    cn      pa     tn  minTriangles  \\\n",
       "89668    11860   28403      1 1.000  40.000 12.000             4   \n",
       "132376  145558  145559      1 2.000   9.000  4.000             3   \n",
       "8244    228243  165937      0 0.000 224.000 36.000             7   \n",
       "14171   213941  122694      0 0.000   6.000  5.000             1   \n",
       "34042    11655   20664      0 0.000  36.000 15.000             3   \n",
       "\n",
       "        maxTriangles  minCoefficient  maxCoefficient    sp    sl  \n",
       "89668              4           0.143           0.400 0.000 0.000  \n",
       "132376             3           1.000           1.000 1.000 1.000  \n",
       "8244             375           0.250           0.987 0.000 0.000  \n",
       "14171              3           1.000           1.000 1.000 0.000  \n",
       "34042             66           1.000           1.000 0.000 0.000  "
      ]
     },
     "execution_count": 5,
     "metadata": {},
     "output_type": "execute_result"
    }
   ],
   "source": [
    "df_train_under.sample(5)"
   ]
  },
  {
   "cell_type": "code",
   "execution_count": 6,
   "metadata": {},
   "outputs": [
    {
     "data": {
      "text/html": [
       "<div>\n",
       "<style scoped>\n",
       "    .dataframe tbody tr th:only-of-type {\n",
       "        vertical-align: middle;\n",
       "    }\n",
       "\n",
       "    .dataframe tbody tr th {\n",
       "        vertical-align: top;\n",
       "    }\n",
       "\n",
       "    .dataframe thead th {\n",
       "        text-align: right;\n",
       "    }\n",
       "</style>\n",
       "<table border=\"1\" class=\"dataframe\">\n",
       "  <thead>\n",
       "    <tr style=\"text-align: right;\">\n",
       "      <th></th>\n",
       "      <th>node1</th>\n",
       "      <th>node2</th>\n",
       "      <th>label</th>\n",
       "      <th>cn</th>\n",
       "      <th>pa</th>\n",
       "      <th>tn</th>\n",
       "      <th>minTriangles</th>\n",
       "      <th>maxTriangles</th>\n",
       "      <th>minCoefficient</th>\n",
       "      <th>maxCoefficient</th>\n",
       "      <th>sp</th>\n",
       "      <th>sl</th>\n",
       "    </tr>\n",
       "  </thead>\n",
       "  <tbody>\n",
       "    <tr>\n",
       "      <th>93632</th>\n",
       "      <td>123439</td>\n",
       "      <td>123440</td>\n",
       "      <td>1</td>\n",
       "      <td>4.000</td>\n",
       "      <td>25.000</td>\n",
       "      <td>6.000</td>\n",
       "      <td>10</td>\n",
       "      <td>10</td>\n",
       "      <td>1.000</td>\n",
       "      <td>1.000</td>\n",
       "      <td>1.000</td>\n",
       "      <td>1.000</td>\n",
       "    </tr>\n",
       "    <tr>\n",
       "      <th>36603</th>\n",
       "      <td>1971</td>\n",
       "      <td>179348</td>\n",
       "      <td>0</td>\n",
       "      <td>1.000</td>\n",
       "      <td>49.000</td>\n",
       "      <td>49.000</td>\n",
       "      <td>0</td>\n",
       "      <td>274</td>\n",
       "      <td>0.000</td>\n",
       "      <td>0.230</td>\n",
       "      <td>1.000</td>\n",
       "      <td>1.000</td>\n",
       "    </tr>\n",
       "    <tr>\n",
       "      <th>136050</th>\n",
       "      <td>195589</td>\n",
       "      <td>242868</td>\n",
       "      <td>1</td>\n",
       "      <td>6.000</td>\n",
       "      <td>49.000</td>\n",
       "      <td>8.000</td>\n",
       "      <td>21</td>\n",
       "      <td>21</td>\n",
       "      <td>1.000</td>\n",
       "      <td>1.000</td>\n",
       "      <td>1.000</td>\n",
       "      <td>1.000</td>\n",
       "    </tr>\n",
       "    <tr>\n",
       "      <th>4843</th>\n",
       "      <td>71861</td>\n",
       "      <td>35970</td>\n",
       "      <td>0</td>\n",
       "      <td>1.000</td>\n",
       "      <td>24.000</td>\n",
       "      <td>13.000</td>\n",
       "      <td>1</td>\n",
       "      <td>6</td>\n",
       "      <td>0.106</td>\n",
       "      <td>1.000</td>\n",
       "      <td>0.000</td>\n",
       "      <td>0.000</td>\n",
       "    </tr>\n",
       "    <tr>\n",
       "      <th>8084</th>\n",
       "      <td>170158</td>\n",
       "      <td>160895</td>\n",
       "      <td>0</td>\n",
       "      <td>3.000</td>\n",
       "      <td>144.000</td>\n",
       "      <td>37.000</td>\n",
       "      <td>3</td>\n",
       "      <td>256</td>\n",
       "      <td>0.433</td>\n",
       "      <td>0.667</td>\n",
       "      <td>1.000</td>\n",
       "      <td>1.000</td>\n",
       "    </tr>\n",
       "  </tbody>\n",
       "</table>\n",
       "</div>"
      ],
      "text/plain": [
       "         node1   node2  label    cn      pa     tn  minTriangles  \\\n",
       "93632   123439  123440      1 4.000  25.000  6.000            10   \n",
       "36603     1971  179348      0 1.000  49.000 49.000             0   \n",
       "136050  195589  242868      1 6.000  49.000  8.000            21   \n",
       "4843     71861   35970      0 1.000  24.000 13.000             1   \n",
       "8084    170158  160895      0 3.000 144.000 37.000             3   \n",
       "\n",
       "        maxTriangles  minCoefficient  maxCoefficient    sp    sl  \n",
       "93632             10           1.000           1.000 1.000 1.000  \n",
       "36603            274           0.000           0.230 1.000 1.000  \n",
       "136050            21           1.000           1.000 1.000 1.000  \n",
       "4843               6           0.106           1.000 0.000 0.000  \n",
       "8084             256           0.433           0.667 1.000 1.000  "
      ]
     },
     "execution_count": 6,
     "metadata": {},
     "output_type": "execute_result"
    }
   ],
   "source": [
    "df_test_under.sample(5)"
   ]
  },
  {
   "cell_type": "code",
   "execution_count": 7,
   "metadata": {},
   "outputs": [],
   "source": [
    "# tag::create-classifier[]\n",
    "classifier = RandomForestClassifier(n_estimators=30, max_depth=10, random_state=0)\n",
    "# end::create-classifier[]"
   ]
  },
  {
   "cell_type": "code",
   "execution_count": 8,
   "metadata": {},
   "outputs": [
    {
     "data": {
      "text/plain": [
       "RandomForestClassifier(max_depth=10, n_estimators=30, random_state=0)"
      ]
     },
     "execution_count": 8,
     "metadata": {},
     "output_type": "execute_result"
    }
   ],
   "source": [
    "# tag::train-model[]\n",
    "columns = [\n",
    "    \"cn\", \"pa\", \"tn\", # graph features\n",
    "    \"minTriangles\", \"maxTriangles\", \"minCoefficient\", \"maxCoefficient\", # triangle features  \n",
    "    \"sp\", \"sl\" # community features\n",
    "]\n",
    "\n",
    "X = df_train_under[columns]\n",
    "y = df_train_under[\"label\"]\n",
    "classifier.fit(X, y)\n",
    "# end::train-model[]"
   ]
  },
  {
   "cell_type": "code",
   "execution_count": 9,
   "metadata": {},
   "outputs": [],
   "source": [
    "# tag::evaluation-imports[]\n",
    "from sklearn.metrics import recall_score\n",
    "from sklearn.metrics import precision_score\n",
    "from sklearn.metrics import accuracy_score\n",
    "# end::evaluation-imports[]\n",
    "\n",
    "# tag::evaluation-functions[]\n",
    "def evaluate_model(predictions, actual):\n",
    "    return pd.DataFrame({\n",
    "        \"Measure\": [\"Accuracy\", \"Precision\", \"Recall\"],\n",
    "        \"Score\": [accuracy_score(actual, predictions), \n",
    "                  precision_score(actual, predictions), \n",
    "                  recall_score(actual, predictions)]\n",
    "    })\n",
    "# end::evaluation-functions[]\n",
    "\n",
    "def feature_importance(columns, classifier):        \n",
    "    display(\"Feature Importance\")\n",
    "    df = pd.DataFrame({\n",
    "        \"Feature\": columns,\n",
    "        \"Importance\": classifier.feature_importances_\n",
    "    })\n",
    "    df = df.sort_values(\"Importance\", ascending=False)    \n",
    "    ax = df.plot(kind='bar', x='Feature', y='Importance', legend=None)\n",
    "    ax.xaxis.set_label_text(\"\")\n",
    "    plt.tight_layout()\n",
    "    plt.show()"
   ]
  },
  {
   "cell_type": "code",
   "execution_count": 15,
   "metadata": {},
   "outputs": [
    {
     "data": {
      "text/html": [
       "<div>\n",
       "<style scoped>\n",
       "    .dataframe tbody tr th:only-of-type {\n",
       "        vertical-align: middle;\n",
       "    }\n",
       "\n",
       "    .dataframe tbody tr th {\n",
       "        vertical-align: top;\n",
       "    }\n",
       "\n",
       "    .dataframe thead th {\n",
       "        text-align: right;\n",
       "    }\n",
       "</style>\n",
       "<table border=\"1\" class=\"dataframe\">\n",
       "  <thead>\n",
       "    <tr style=\"text-align: right;\">\n",
       "      <th></th>\n",
       "      <th>Measure</th>\n",
       "      <th>Score</th>\n",
       "    </tr>\n",
       "  </thead>\n",
       "  <tbody>\n",
       "    <tr>\n",
       "      <th>0</th>\n",
       "      <td>Accuracy</td>\n",
       "      <td>0.964</td>\n",
       "    </tr>\n",
       "    <tr>\n",
       "      <th>1</th>\n",
       "      <td>Precision</td>\n",
       "      <td>0.961</td>\n",
       "    </tr>\n",
       "    <tr>\n",
       "      <th>2</th>\n",
       "      <td>Recall</td>\n",
       "      <td>0.967</td>\n",
       "    </tr>\n",
       "  </tbody>\n",
       "</table>\n",
       "</div>"
      ],
      "text/plain": [
       "     Measure  Score\n",
       "0   Accuracy  0.964\n",
       "1  Precision  0.961\n",
       "2     Recall  0.967"
      ]
     },
     "execution_count": 15,
     "metadata": {},
     "output_type": "execute_result"
    }
   ],
   "source": [
    "# tag::test-model[]\n",
    "predictions = classifier.predict(df_test_under[columns])\n",
    "y_test = df_test_under[\"label\"]\n",
    "\n",
    "evaluate_model(predictions, y_test)\n",
    "# end::test-model[]"
   ]
  },
  {
   "cell_type": "code",
   "execution_count": 16,
   "metadata": {},
   "outputs": [],
   "source": [
    "evaluate_model(predictions, y_test).to_csv(\"data/model-eval.csv\", index=False)"
   ]
  },
  {
   "cell_type": "code",
   "execution_count": 12,
   "metadata": {},
   "outputs": [
    {
     "data": {
      "text/plain": [
       "'Feature Importance'"
      ]
     },
     "metadata": {},
     "output_type": "display_data"
    },
    {
     "data": {
      "image/png": "[encoded data removed]",
      "text/plain": [
       "<Figure size 432x288 with 1 Axes>"
      ]
     },
     "metadata": {},
     "output_type": "display_data"
    }
   ],
   "source": [
    "feature_importance(columns, classifier)"
   ]
  }
 ],
 "metadata": {
  "jupytext": {
   "encoding": "# -*- coding: utf-8 -*-",
   "formats": "py:light,ipynb"
  },
  "kernelspec": {
   "display_name": "Python 3",
   "language": "python",
   "name": "python3"
  },
  "language_info": {
   "codemirror_mode": {
    "name": "ipython",
    "version": 3
   },
   "file_extension": ".py",
   "mimetype": "text/x-python",
   "name": "python",
   "nbconvert_exporter": "python",
   "pygments_lexer": "ipython3",
   "version": "3.8.4"
  }
 },
 "nbformat": 4,
 "nbformat_minor": 4
}
